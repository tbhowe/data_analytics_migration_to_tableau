{
 "cells": [
  {
   "cell_type": "code",
   "execution_count": 1,
   "metadata": {},
   "outputs": [],
   "source": [
    "import pandas as pd\n",
    "\n"
   ]
  },
  {
   "cell_type": "code",
   "execution_count": 2,
   "metadata": {},
   "outputs": [],
   "source": [
    "years_list=list(range(1987, 1996+1))\n",
    "years_list.remove(1988)\n",
    "path='data-analytics-files/'\n",
    "year_dataframes={}\n",
    "for year in years_list:\n",
    "    filepath=path+str(year)+'.csv'\n",
    "    year_dataframes[str(year)]=pd.read_csv(filepath)"
   ]
  },
  {
   "cell_type": "code",
   "execution_count": null,
   "metadata": {},
   "outputs": [],
   "source": [
    "test_df=year_dataframes['1987']\n",
    "test_df.info()\n"
   ]
  }
 ],
 "metadata": {
  "kernelspec": {
   "display_name": "Multinational",
   "language": "python",
   "name": "python3"
  },
  "language_info": {
   "codemirror_mode": {
    "name": "ipython",
    "version": 3
   },
   "file_extension": ".py",
   "mimetype": "text/x-python",
   "name": "python",
   "nbconvert_exporter": "python",
   "pygments_lexer": "ipython3",
   "version": "3.11.0"
  },
  "orig_nbformat": 4,
  "vscode": {
   "interpreter": {
    "hash": "c2470edd25b80b19359caaf0290cdef9c349111dfb6a037bfaf4cc53af28455e"
   }
  }
 },
 "nbformat": 4,
 "nbformat_minor": 2
}
