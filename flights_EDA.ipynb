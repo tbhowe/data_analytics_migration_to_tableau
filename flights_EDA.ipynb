{
 "cells": [
  {
   "cell_type": "code",
   "execution_count": 1,
   "metadata": {},
   "outputs": [],
   "source": [
    "import pandas as pd\n",
    "\n"
   ]
  },
  {
   "cell_type": "code",
   "execution_count": 2,
   "metadata": {},
   "outputs": [],
   "source": [
    "years_list=list(range(1987, 1996+1))\n",
    "years_list.remove(1988)\n",
    "path='data-analytics-files/'\n",
    "year_dataframes={}\n",
    "for year in years_list:\n",
    "    filepath=path+str(year)+'.csv'\n",
    "    year_dataframes[str(year)]=pd.read_csv(filepath)"
   ]
  },
  {
   "attachments": {},
   "cell_type": "markdown",
   "metadata": {},
   "source": [
    "Cell below drops all columns containing only nulls:"
   ]
  },
  {
   "cell_type": "code",
   "execution_count": 18,
   "metadata": {},
   "outputs": [
    {
     "data": {
      "text/plain": [
       "5270893"
      ]
     },
     "execution_count": 18,
     "metadata": {},
     "output_type": "execute_result"
    }
   ],
   "source": [
    "test_df=year_dataframes['1990']\n",
    "missing_columns = [col for col in test_df.columns if test_df[col].isnull().all()]\n",
    "reduced_df = test_df.drop(axis=1, columns=missing_columns)\n",
    "# reduced_df.info(verbose=True, max_cols=30)\n",
    "reduced_df.shape[0]"
   ]
  },
  {
   "attachments": {},
   "cell_type": "markdown",
   "metadata": {},
   "source": [
    "Code below drops rows containing any nulls:"
   ]
  },
  {
   "cell_type": "code",
   "execution_count": 20,
   "metadata": {},
   "outputs": [
    {
     "data": {
      "text/plain": [
       "5110527"
      ]
     },
     "execution_count": 20,
     "metadata": {},
     "output_type": "execute_result"
    }
   ],
   "source": [
    "cleaned_df=reduced_df.dropna(axis=0, how=\"any\")\n",
    "cleaned_df.shape[0]"
   ]
  }
 ],
 "metadata": {
  "kernelspec": {
   "display_name": "Multinational",
   "language": "python",
   "name": "python3"
  },
  "language_info": {
   "codemirror_mode": {
    "name": "ipython",
    "version": 3
   },
   "file_extension": ".py",
   "mimetype": "text/x-python",
   "name": "python",
   "nbconvert_exporter": "python",
   "pygments_lexer": "ipython3",
   "version": "3.11.0"
  },
  "orig_nbformat": 4,
  "vscode": {
   "interpreter": {
    "hash": "c2470edd25b80b19359caaf0290cdef9c349111dfb6a037bfaf4cc53af28455e"
   }
  }
 },
 "nbformat": 4,
 "nbformat_minor": 2
}
